{
 "cells": [
  {
   "cell_type": "code",
   "execution_count": 3,
   "metadata": {},
   "outputs": [
    {
     "data": {
      "text/plain": [
       "'c:\\\\Users\\\\Alex\\\\Documents\\\\repos\\\\Predicting-ATP-Tennis-Match-Outcomes\\\\tennis_atp'"
      ]
     },
     "execution_count": 3,
     "metadata": {},
     "output_type": "execute_result"
    }
   ],
   "source": [
    "import os \n",
    "os.getcwd()\n",
    "os.chdir('..\\\\tennis_atp')\n",
    "os.getcwd()"
   ]
  },
  {
   "cell_type": "code",
   "execution_count": null,
   "metadata": {},
   "outputs": [],
   "source": [
    "\n",
    "\n",
    "matches = matches_raw[[\"winner_name\", \"loser_name\", \"tourney_level\", \"tourney_date\", \"match_num\"]]\n",
    "\n",
    "first_date = pd.to_datetime(\"1900-01-01\")\n",
    "matches[\"tourney_date\"] = pd.to_datetime(matches[\"tourney_date\"], format=\"%Y%m%d\", origin=\"1900/01/01\")\n",
    "\n",
    "matches = matches.sort_values(by=[\"tourney_date\", \"match_num\"])\n",
    "players_to_elo = {}\n",
    "matches_count = {}\n",
    "\n",
    "def compute_elo():\n",
    "    matches.apply(update_matches_count_by_row, axis=1)\n",
    "    matches.apply(compute_elo_by_row, axis=1)\n",
    "    return players_to_elo\n",
    "\n",
    "def compute_elo_by_row(row):\n",
    "    update_elo(players_to_elo, row[0], row[1], row[0], row[2], row[3], row[4])\n",
    "    return 0\n",
    "\n",
    "def update_matches_count_by_row(row):\n",
    "    update_matches_count(row[0], row[1])\n",
    "    return 0\n",
    "\n",
    "def update_matches_count(player_a, player_b):\n",
    "    if player_a not in matches_count:\n",
    "        matches_count[player_a] = 0\n",
    "    if player_b not in matches_count:\n",
    "        matches_count[player_b] = 0\n",
    "    matches_count[player_a] += 1\n",
    "    matches_count[player_b] += 1\n",
    "\n",
    "def update_elo(pl_to_elo, player_a, player_b, winner, level, match_date, match_num):\n",
    "    r_a = pl_to_elo.get(player_a, {\"ranking\": [1500], \"date\": [first_date], \"num\": [0]})[\"ranking\"][-1]\n",
    "    r_b = pl_to_elo.get(player_b, {\"ranking\": [1500], \"date\": [first_date], \"num\": [0]})[\"ranking\"][-1]\n",
    "\n",
    "    e_a = 1 / (1 + 10 ** ((r_b - r_a) / 400))\n",
    "    e_b = 1 / (1 + 10 ** ((r_a - r_b) / 400))\n",
    "\n",
    "    if winner == player_a:\n",
    "        s_a = 1\n",
    "        s_b = 0\n",
    "    else:\n",
    "        s_a = 0\n",
    "        s_b = 1\n",
    "\n",
    "    k_a = 250 / ((matches_count[player_a] + 5) ** 0.4)\n",
    "    k_b = 250 / ((matches_count[player_b] + 5) ** 0.4)\n",
    "    k = 1.1 if level == \"G\" else 1\n",
    "\n",
    "    r_a_new = r_a + (k * k_a) * (s_a - e_a)\n",
    "    r_b_new = r_b + (k * k_b) * (s_b - e_b)\n",
    "\n",
    "    pl_to_elo[player_a] = {\"ranking\": pl_to_elo.get(player_a, {\"ranking\": [1500], \"date\": [first_date], \"num\": [0]})[\"ranking\"] + [r_a_new],\n",
    "                           \"date\": pl_to_elo.get(player_a, {\"ranking\": [1500], \"date\": [first_date], \"num\": [0]})[\"date\"] + [match_date],\n",
    "                           \"num\": pl_to_elo.get(player_a, {\"ranking\": [1500], \"date\": [first_date], \"num\": [0]})[\"num\"] + [match_num]}\n",
    "    pl_to_elo[player_b] = {\"ranking\": pl_to_elo.get(player_b, {\"ranking\": [1500], \"date\": [first_date], \"num\": [0]})[\"ranking\"] + [r_b_new],\n",
    "                           \"date\": pl_to_elo.get(player_b, {\"ranking\": [1500], \"date\": [first_date], \"num\": [0]})[\"date\"] + [match_date],\n",
    "                           \"num\": pl_to_elo.get(player_b, {\"ranking\": [1500], \"date\": [first_date], \"num\": [0]})[\"num\"] + [match_num]}\n",
    "\n",
    "compute_elo()\n",
    "\n",
    "roger = players_to_elo[\"Novak Djokovic\"]\n",
    "roger = roger[roger[\"date\"] > pd.to_datetime(\"2001-01-01\")]\n",
    "\n",
    "import matplotlib.pyplot as plt\n",
    "\n",
    "plt.plot(roger[\"date\"], roger[\"ranking\"])\n",
    "plt.xlabel(\"Date\")\n",
    "plt.ylabel(\"Ranking\")\n",
    "plt.title(\"Novak Djokovic's Elo Ranking Over Time\")\n",
    "plt.show()"
   ]
  },
  {
   "cell_type": "code",
   "execution_count": null,
   "metadata": {},
   "outputs": [],
   "source": []
  },
  {
   "cell_type": "code",
   "execution_count": null,
   "metadata": {},
   "outputs": [],
   "source": []
  },
  {
   "cell_type": "code",
   "execution_count": null,
   "metadata": {},
   "outputs": [],
   "source": []
  },
  {
   "cell_type": "code",
   "execution_count": null,
   "metadata": {},
   "outputs": [],
   "source": []
  }
 ],
 "metadata": {
  "kernelspec": {
   "display_name": "tf",
   "language": "python",
   "name": "python3"
  },
  "language_info": {
   "codemirror_mode": {
    "name": "ipython",
    "version": 3
   },
   "file_extension": ".py",
   "mimetype": "text/x-python",
   "name": "python",
   "nbconvert_exporter": "python",
   "pygments_lexer": "ipython3",
   "version": "3.9.18"
  }
 },
 "nbformat": 4,
 "nbformat_minor": 2
}
