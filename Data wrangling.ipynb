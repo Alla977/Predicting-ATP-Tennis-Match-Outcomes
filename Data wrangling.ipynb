{
 "cells": [
  {
   "cell_type": "markdown",
   "id": "9a359fc4",
   "metadata": {},
   "source": [
    "### Importing data"
   ]
  },
  {
   "cell_type": "code",
   "execution_count": 1,
   "id": "53b54873-9523-45f0-8618-ffeec286a3a8",
   "metadata": {
    "tags": []
   },
   "outputs": [],
   "source": [
    "import os\n",
    "\n",
    "#os.getcwd()\n",
    "os.chdir('..\\\\tennis_atp')\n",
    "#os.getcwd()"
   ]
  },
  {
   "cell_type": "code",
   "execution_count": 2,
   "id": "09debef7",
   "metadata": {},
   "outputs": [
    {
     "data": {
      "text/plain": [
       "2017"
      ]
     },
     "execution_count": 2,
     "metadata": {},
     "output_type": "execute_result"
    }
   ],
   "source": [
    "import re\n",
    "file = \"atp_matches_2017.csv\"\n",
    "int(re.search(r'\\d{4}', file).group(0))"
   ]
  },
  {
   "cell_type": "code",
   "execution_count": 3,
   "id": "efb7032d",
   "metadata": {},
   "outputs": [],
   "source": [
    "lower_limit = 2010"
   ]
  },
  {
   "cell_type": "code",
   "execution_count": 4,
   "id": "c99fc363-1dc0-4ad3-8175-908130948d1f",
   "metadata": {
    "tags": []
   },
   "outputs": [
    {
     "data": {
      "text/html": [
       "<div>\n",
       "<style scoped>\n",
       "    .dataframe tbody tr th:only-of-type {\n",
       "        vertical-align: middle;\n",
       "    }\n",
       "\n",
       "    .dataframe tbody tr th {\n",
       "        vertical-align: top;\n",
       "    }\n",
       "\n",
       "    .dataframe thead th {\n",
       "        text-align: right;\n",
       "    }\n",
       "</style>\n",
       "<table border=\"1\" class=\"dataframe\">\n",
       "  <thead>\n",
       "    <tr style=\"text-align: right;\">\n",
       "      <th></th>\n",
       "      <th>l_1stIn</th>\n",
       "      <th>w_1stIn</th>\n",
       "      <th>l_1stWon</th>\n",
       "      <th>w_1stWon</th>\n",
       "      <th>l_2ndWon</th>\n",
       "      <th>w_2ndWon</th>\n",
       "      <th>l_SvGms</th>\n",
       "      <th>w_SvGms</th>\n",
       "      <th>l_ace</th>\n",
       "      <th>w_ace</th>\n",
       "      <th>...</th>\n",
       "      <th>loser_rank</th>\n",
       "      <th>winner_rank</th>\n",
       "      <th>round</th>\n",
       "      <th>score</th>\n",
       "      <th>loser_seed</th>\n",
       "      <th>winner_seed</th>\n",
       "      <th>draw_size</th>\n",
       "      <th>surface</th>\n",
       "      <th>l_svpt</th>\n",
       "      <th>w_svpt</th>\n",
       "    </tr>\n",
       "  </thead>\n",
       "  <tbody>\n",
       "    <tr>\n",
       "      <th>4518</th>\n",
       "      <td>43.0</td>\n",
       "      <td>31.0</td>\n",
       "      <td>30.0</td>\n",
       "      <td>24.0</td>\n",
       "      <td>13.0</td>\n",
       "      <td>18.0</td>\n",
       "      <td>9.0</td>\n",
       "      <td>10.0</td>\n",
       "      <td>2.0</td>\n",
       "      <td>4.0</td>\n",
       "      <td>...</td>\n",
       "      <td>NaN</td>\n",
       "      <td>511.0</td>\n",
       "      <td>Q1</td>\n",
       "      <td>6-3 6-4</td>\n",
       "      <td>NaN</td>\n",
       "      <td>8</td>\n",
       "      <td>32</td>\n",
       "      <td>Clay</td>\n",
       "      <td>78.0</td>\n",
       "      <td>64.0</td>\n",
       "    </tr>\n",
       "    <tr>\n",
       "      <th>4519</th>\n",
       "      <td>41.0</td>\n",
       "      <td>29.0</td>\n",
       "      <td>21.0</td>\n",
       "      <td>25.0</td>\n",
       "      <td>8.0</td>\n",
       "      <td>9.0</td>\n",
       "      <td>9.0</td>\n",
       "      <td>9.0</td>\n",
       "      <td>0.0</td>\n",
       "      <td>5.0</td>\n",
       "      <td>...</td>\n",
       "      <td>NaN</td>\n",
       "      <td>470.0</td>\n",
       "      <td>Q1</td>\n",
       "      <td>7-5 6-0</td>\n",
       "      <td>NaN</td>\n",
       "      <td>5</td>\n",
       "      <td>32</td>\n",
       "      <td>Clay</td>\n",
       "      <td>60.0</td>\n",
       "      <td>44.0</td>\n",
       "    </tr>\n",
       "    <tr>\n",
       "      <th>4520</th>\n",
       "      <td>34.0</td>\n",
       "      <td>33.0</td>\n",
       "      <td>26.0</td>\n",
       "      <td>27.0</td>\n",
       "      <td>15.0</td>\n",
       "      <td>13.0</td>\n",
       "      <td>10.0</td>\n",
       "      <td>9.0</td>\n",
       "      <td>4.0</td>\n",
       "      <td>5.0</td>\n",
       "      <td>...</td>\n",
       "      <td>955.0</td>\n",
       "      <td>636.0</td>\n",
       "      <td>Q1</td>\n",
       "      <td>6-4 6-3</td>\n",
       "      <td>NaN</td>\n",
       "      <td>12</td>\n",
       "      <td>32</td>\n",
       "      <td>Clay</td>\n",
       "      <td>72.0</td>\n",
       "      <td>54.0</td>\n",
       "    </tr>\n",
       "    <tr>\n",
       "      <th>4521</th>\n",
       "      <td>22.0</td>\n",
       "      <td>32.0</td>\n",
       "      <td>9.0</td>\n",
       "      <td>26.0</td>\n",
       "      <td>4.0</td>\n",
       "      <td>5.0</td>\n",
       "      <td>6.0</td>\n",
       "      <td>7.0</td>\n",
       "      <td>2.0</td>\n",
       "      <td>0.0</td>\n",
       "      <td>...</td>\n",
       "      <td>NaN</td>\n",
       "      <td>487.0</td>\n",
       "      <td>Q1</td>\n",
       "      <td>6-0 6-1</td>\n",
       "      <td>NaN</td>\n",
       "      <td>6</td>\n",
       "      <td>32</td>\n",
       "      <td>Clay</td>\n",
       "      <td>36.0</td>\n",
       "      <td>43.0</td>\n",
       "    </tr>\n",
       "    <tr>\n",
       "      <th>4522</th>\n",
       "      <td>28.0</td>\n",
       "      <td>28.0</td>\n",
       "      <td>19.0</td>\n",
       "      <td>22.0</td>\n",
       "      <td>7.0</td>\n",
       "      <td>12.0</td>\n",
       "      <td>9.0</td>\n",
       "      <td>9.0</td>\n",
       "      <td>0.0</td>\n",
       "      <td>10.0</td>\n",
       "      <td>...</td>\n",
       "      <td>880.0</td>\n",
       "      <td>555.0</td>\n",
       "      <td>Q1</td>\n",
       "      <td>7-5 6-0</td>\n",
       "      <td>NaN</td>\n",
       "      <td>NaN</td>\n",
       "      <td>32</td>\n",
       "      <td>Clay</td>\n",
       "      <td>52.0</td>\n",
       "      <td>44.0</td>\n",
       "    </tr>\n",
       "  </tbody>\n",
       "</table>\n",
       "<p>5 rows × 49 columns</p>\n",
       "</div>"
      ],
      "text/plain": [
       "      l_1stIn  w_1stIn  l_1stWon  w_1stWon  l_2ndWon  w_2ndWon  l_SvGms  \\\n",
       "4518     43.0     31.0      30.0      24.0      13.0      18.0      9.0   \n",
       "4519     41.0     29.0      21.0      25.0       8.0       9.0      9.0   \n",
       "4520     34.0     33.0      26.0      27.0      15.0      13.0     10.0   \n",
       "4521     22.0     32.0       9.0      26.0       4.0       5.0      6.0   \n",
       "4522     28.0     28.0      19.0      22.0       7.0      12.0      9.0   \n",
       "\n",
       "      w_SvGms  l_ace  w_ace  ...  loser_rank  winner_rank  round    score  \\\n",
       "4518     10.0    2.0    4.0  ...         NaN        511.0     Q1  6-3 6-4   \n",
       "4519      9.0    0.0    5.0  ...         NaN        470.0     Q1  7-5 6-0   \n",
       "4520      9.0    4.0    5.0  ...       955.0        636.0     Q1  6-4 6-3   \n",
       "4521      7.0    2.0    0.0  ...         NaN        487.0     Q1  6-0 6-1   \n",
       "4522      9.0    0.0   10.0  ...       880.0        555.0     Q1  7-5 6-0   \n",
       "\n",
       "      loser_seed  winner_seed  draw_size  surface  l_svpt w_svpt  \n",
       "4518         NaN            8         32     Clay    78.0   64.0  \n",
       "4519         NaN            5         32     Clay    60.0   44.0  \n",
       "4520         NaN           12         32     Clay    72.0   54.0  \n",
       "4521         NaN            6         32     Clay    36.0   43.0  \n",
       "4522         NaN          NaN         32     Clay    52.0   44.0  \n",
       "\n",
       "[5 rows x 49 columns]"
      ]
     },
     "execution_count": 4,
     "metadata": {},
     "output_type": "execute_result"
    }
   ],
   "source": [
    "import pandas as pd\n",
    "import re\n",
    "\n",
    "files = [file for file in os.listdir() if file.startswith(\"atp_matches_\") and file.endswith(\".csv\") and \"doubles\" not in file  and \"amateur\" not in file and  int(re.search(r'\\d{4}', file).group(0)) >= lower_limit]\n",
    "\n",
    "atp_matches = pd.concat([pd.read_csv(file, sep=\",\") for file in files])\n",
    "\n",
    "sorted_columns = sorted(atp_matches.columns, key=lambda x: (x.split('_')[-1], x))\n",
    "\n",
    "atp_matches = atp_matches[sorted_columns]\n",
    "\n",
    "atp_matches.tail(5)"
   ]
  },
  {
   "cell_type": "markdown",
   "id": "4f7dbf51",
   "metadata": {},
   "source": [
    "Data consists of observations, where each observation represents an ATP tennis match. Both player-characteristics such as age, rank and height are included as well as match level statistics such as 1st serve points won and number of break points saved. A complete list of columns included is shown below: \n",
    "\n",
    "- tourney_id: Tournament ID\n",
    "- tourney_name: Tournament Name\n",
    "- surface: Surface of the court\n",
    "- draw_size: Size of the draw\n",
    "- tourney_level: Level of the tournament\n",
    "- tourney_date: Date of the tournament\n",
    "- match_num: Match number\n",
    "- winner_id: Winner ID\n",
    "- winner_seed: Winner seed\n",
    "- winner_entry: Winner entry\n",
    "- winner_name: Winner name\n",
    "- winner_hand: Winner hand\n",
    "- winner_ht: Winner height\n",
    "- winner_ioc: Winner country\n",
    "- winner_age: Winner age\n",
    "- winner_rank: Winner rank\n",
    "- winner_rank_points: Winner rank points\n",
    "- loser_id: Loser ID\n",
    "- loser_seed: Loser seed\n",
    "- loser_entry: Loser entry\n",
    "- loser_name: Loser name\n",
    "- loser_hand: Loser hand\n",
    "- loser_ht: Loser height\n",
    "- loser_ioc: Loser country\n",
    "- loser_age: Loser age\n",
    "- loser_rank: Loser rank\n",
    "- loser_rank_points: Loser rank points\n",
    "- score: Match score\n",
    "- best_of: Best of\n",
    "- round: Round\n",
    "- minutes: Match duration\n",
    "- w_ace: Winner aces\n",
    "- w_df: Winner double faults\n",
    "- w_svpt: Winner service points\n",
    "- w_1stIn: Winner first serves in\n",
    "- w_1stWon: Winner first serve points won\n",
    "- w_2ndWon: Winner second serve points won\n",
    "- w_SvGms: Winner service games\n",
    "- w_bpSaved: Winner break points saved\n",
    "- w_bpFaced: Winner break points faced\n",
    "- l_ace: Loser aces\n",
    "- l_df: Loser double faults\n",
    "- l_svpt: Loser service points\n",
    "- l_1stIn: Loser first serves in\n",
    "- l_1stWon: Loser first serve points won\n",
    "- l_2ndWon: Loser second serve points won\n",
    "- l_SvGms: Loser service games\n",
    "- l_bpSaved: Loser break points saved\n"
   ]
  },
  {
   "cell_type": "code",
   "execution_count": null,
   "id": "a123f33c",
   "metadata": {},
   "outputs": [],
   "source": []
  },
  {
   "cell_type": "markdown",
   "id": "1ad70115",
   "metadata": {},
   "source": [
    "# Construction of response variable (Main player vs. Other player)"
   ]
  },
  {
   "cell_type": "markdown",
   "id": "74936ae4",
   "metadata": {},
   "source": [
    "First I define the response variable, which is a discrete variable that can take the values 0 or 1. The value 0 indicates that the main player lost the match, the value 1 indicates that the main player won the match. The main player is chosen as one of the two players by random."
   ]
  },
  {
   "cell_type": "code",
   "execution_count": 5,
   "id": "68cb6b26",
   "metadata": {},
   "outputs": [],
   "source": [
    "\n",
    "import numpy as np\n",
    "\n",
    "np.random.seed(42)\n",
    "atp_matches['Main_player'] = np.where(np.random.binomial(n=1, p=0.5, size=len(atp_matches)) == 1, 'winner', 'loser')\n",
    "\n",
    "atp_matches['Outcome'] = np.where(atp_matches['Main_player'] == 'winner', 1, 0)\n",
    "\n",
    "atp_matches['Main_player_name'] = np.where(atp_matches['Main_player'] == 'winner', atp_matches['winner_name'],\n",
    "                                           atp_matches['loser_name'])\n",
    "\n",
    "atp_matches['Other_player_name'] = np.where(atp_matches['Main_player'] == 'winner', atp_matches['loser_name'],\n",
    "                                           atp_matches['winner_name'])"
   ]
  },
  {
   "cell_type": "markdown",
   "id": "e9b77031",
   "metadata": {},
   "source": [
    "## Mapping round of match to integer"
   ]
  },
  {
   "cell_type": "markdown",
   "id": "8a591f78",
   "metadata": {},
   "source": [
    "Round robin matches are matches, where each player competes against each other (e.g in a Davis-Cup or Nitto ATP Finals). Since we cannot order such matches based on the data available, we exclude all round robin matches.\n",
    "\n"
   ]
  },
  {
   "cell_type": "code",
   "execution_count": 6,
   "id": "f2000dcb",
   "metadata": {},
   "outputs": [
    {
     "data": {
      "text/plain": [
       "642     Davis Cup G1 R1: AUS vs TPE\n",
       "643     Davis Cup G1 R1: AUS vs TPE\n",
       "644     Davis Cup G1 R1: AUS vs TPE\n",
       "645     Davis Cup G1 R1: AUS vs TPE\n",
       "646     Davis Cup G1 R1: CHN vs UZB\n",
       "                   ...             \n",
       "3774         Challenger Tour Finals\n",
       "3775         Challenger Tour Finals\n",
       "3776         Challenger Tour Finals\n",
       "3777         Challenger Tour Finals\n",
       "3778         Challenger Tour Finals\n",
       "Name: tourney_name, Length: 4175, dtype: object"
      ]
     },
     "execution_count": 6,
     "metadata": {},
     "output_type": "execute_result"
    }
   ],
   "source": [
    "atp_matches[atp_matches['round']=='RR']['tourney_name']"
   ]
  },
  {
   "cell_type": "markdown",
   "id": "edbfd257",
   "metadata": {},
   "source": [
    "In order to calculate evolution of match statistics for each main player, we need to able to introduce a measure of time. Since only the start date of the tournament is given and not the match date, we need to introduce a measure, which can sort the matches chonologically. To do so we can use the round of the match and convert to numerical as follows:"
   ]
  },
  {
   "cell_type": "code",
   "execution_count": 7,
   "id": "1c792c65",
   "metadata": {},
   "outputs": [],
   "source": [
    "\n",
    "# Define the round mapping dictionary\n",
    "round_mapping = {\n",
    "    'RR': -1,\n",
    "    'BR': 0,\n",
    "    'R128': 1,\n",
    "    'R64': 2,\n",
    "    'R32': 3,\n",
    "    'R16': 4,\n",
    "    'QF': 5,\n",
    "    'SF': 6,\n",
    "    'F': 7\n",
    "}\n",
    "\n",
    "atp_matches['round'] = atp_matches['round'].map(round_mapping)\n",
    "atp_matches['round'] = atp_matches['round'].fillna(0) #If the round in missing we exclude from \n",
    "                                                      #the dataset in order not to mix with other rounds\n",
    "\n",
    "atp_matches = atp_matches[atp_matches['round']>0]"
   ]
  },
  {
   "cell_type": "markdown",
   "id": "266ca8af",
   "metadata": {},
   "source": [
    "# Constructing a player database"
   ]
  },
  {
   "cell_type": "markdown",
   "id": "5aa6d851",
   "metadata": {},
   "source": [
    "Now de define a dataset, which lists every match a specific player has played. This data is player-specific, and can be used to calculate time evolution player statistics as well as the evolution of Elo ratings. We then sort the player database by increasing tournament date and increasing round (i.e. most recent matches at bottom of dataframe). Since the pandas rolling function considers observations to the left of the current observation, this sortation of the dataset will result in the desired aggregation of time evolution statistics. "
   ]
  },
  {
   "cell_type": "code",
   "execution_count": 8,
   "id": "fc959238",
   "metadata": {},
   "outputs": [
    {
     "name": "stderr",
     "output_type": "stream",
     "text": [
      "100%|██████████| 10547/10547 [10:43<00:00, 16.39it/s]\n"
     ]
    }
   ],
   "source": [
    "import warnings\n",
    "warnings.filterwarnings('ignore')\n",
    "from tqdm import tqdm\n",
    "\n",
    "all_matches_per_player = []\n",
    "\n",
    "players = atp_matches[\"Main_player_name\"].drop_duplicates()\n",
    "n = len(players)\n",
    "index = 1\n",
    "for player_name in tqdm(players):\n",
    "    player_matches = atp_matches[(atp_matches[\"loser_name\"]==player_name) \n",
    "    | (atp_matches[\"winner_name\"]==player_name)]\n",
    "    player_matches[\"player\"] = player_name\n",
    "    player_matches.drop('Main_player_name', axis=1, inplace=True)\n",
    "    all_matches_per_player.append(player_matches)\n",
    "\n",
    "\n",
    "all_matches_per_player = pd.concat(all_matches_per_player, ignore_index=True)\n",
    "\n",
    "all_matches_per_player = all_matches_per_player.sort_values(by=['player', 'tourney_date','round']\n",
    "                                                            , ascending=[True, True,True])\n",
    "##\n",
    "\n",
    "\n",
    "## In future make sure not to rerun but to append most recent matches onto existing csv file. E.g. run for loop where tourney_date > last_stand_point\n",
    "#through_date = np.max(atp_matches['tourney_date']\n",
    "#latest_date.append(through_date)\n",
    "#last_stand_point = np.max(latest_date)"
   ]
  },
  {
   "cell_type": "markdown",
   "id": "00eaf9e3",
   "metadata": {},
   "source": [
    "We redefine the outcome variable in the player database such that it is player-specific and not Main_player-specific"
   ]
  },
  {
   "cell_type": "code",
   "execution_count": 9,
   "id": "21a01e47",
   "metadata": {},
   "outputs": [],
   "source": [
    "all_matches_per_player[\"player_outcome\"] = all_matches_per_player.apply(lambda \n",
    "row: 1 if row['player']==row['winner_name'] else 0, axis=1).astype(int)\n"
   ]
  },
  {
   "cell_type": "markdown",
   "id": "186edee9",
   "metadata": {},
   "source": [
    "We also extract and assign the corresponding values for age, rank and height."
   ]
  },
  {
   "cell_type": "code",
   "execution_count": 10,
   "id": "88b5464e",
   "metadata": {},
   "outputs": [],
   "source": [
    "all_matches_per_player[\"age\"] = all_matches_per_player.apply(lambda \n",
    "row: row['winner_age'] if row['player']==row['winner_name'] else row['loser_age'], axis=1)\n",
    "\n",
    "all_matches_per_player[\"rank\"] = all_matches_per_player.apply(lambda\n",
    "row: row['winner_rank'] if row['player']==row['winner_name'] else row['loser_rank'], axis=1)\n",
    "\n",
    "all_matches_per_player[\"height\"] = all_matches_per_player.apply(lambda\n",
    "row: row['winner_ht'] if row['player']==row['winner_name'] else row['loser_ht'], axis=1)"
   ]
  },
  {
   "cell_type": "markdown",
   "id": "5dc67444",
   "metadata": {},
   "source": [
    "We can now view a couple of variables from the player database for a specific player (In this case Novak Djokovic), showing the latest recorded matches: "
   ]
  },
  {
   "cell_type": "code",
   "execution_count": 11,
   "id": "9674bc8a",
   "metadata": {},
   "outputs": [
    {
     "data": {
      "text/html": [
       "<div>\n",
       "<style scoped>\n",
       "    .dataframe tbody tr th:only-of-type {\n",
       "        vertical-align: middle;\n",
       "    }\n",
       "\n",
       "    .dataframe tbody tr th {\n",
       "        vertical-align: top;\n",
       "    }\n",
       "\n",
       "    .dataframe thead th {\n",
       "        text-align: right;\n",
       "    }\n",
       "</style>\n",
       "<table border=\"1\" class=\"dataframe\">\n",
       "  <thead>\n",
       "    <tr style=\"text-align: right;\">\n",
       "      <th></th>\n",
       "      <th>tourney_date</th>\n",
       "      <th>round</th>\n",
       "      <th>player</th>\n",
       "      <th>player_outcome</th>\n",
       "      <th>age</th>\n",
       "    </tr>\n",
       "  </thead>\n",
       "  <tbody>\n",
       "    <tr>\n",
       "      <th>32509</th>\n",
       "      <td>20240304</td>\n",
       "      <td>3.0</td>\n",
       "      <td>Novak Djokovic</td>\n",
       "      <td>0</td>\n",
       "      <td>36.7</td>\n",
       "    </tr>\n",
       "    <tr>\n",
       "      <th>32514</th>\n",
       "      <td>20240408</td>\n",
       "      <td>3.0</td>\n",
       "      <td>Novak Djokovic</td>\n",
       "      <td>1</td>\n",
       "      <td>36.8</td>\n",
       "    </tr>\n",
       "    <tr>\n",
       "      <th>32513</th>\n",
       "      <td>20240408</td>\n",
       "      <td>4.0</td>\n",
       "      <td>Novak Djokovic</td>\n",
       "      <td>1</td>\n",
       "      <td>36.8</td>\n",
       "    </tr>\n",
       "    <tr>\n",
       "      <th>32512</th>\n",
       "      <td>20240408</td>\n",
       "      <td>5.0</td>\n",
       "      <td>Novak Djokovic</td>\n",
       "      <td>1</td>\n",
       "      <td>36.8</td>\n",
       "    </tr>\n",
       "    <tr>\n",
       "      <th>32511</th>\n",
       "      <td>20240408</td>\n",
       "      <td>6.0</td>\n",
       "      <td>Novak Djokovic</td>\n",
       "      <td>0</td>\n",
       "      <td>36.8</td>\n",
       "    </tr>\n",
       "    <tr>\n",
       "      <th>32516</th>\n",
       "      <td>20240506</td>\n",
       "      <td>2.0</td>\n",
       "      <td>Novak Djokovic</td>\n",
       "      <td>1</td>\n",
       "      <td>36.9</td>\n",
       "    </tr>\n",
       "    <tr>\n",
       "      <th>32515</th>\n",
       "      <td>20240506</td>\n",
       "      <td>3.0</td>\n",
       "      <td>Novak Djokovic</td>\n",
       "      <td>0</td>\n",
       "      <td>36.9</td>\n",
       "    </tr>\n",
       "    <tr>\n",
       "      <th>32519</th>\n",
       "      <td>20240520</td>\n",
       "      <td>4.0</td>\n",
       "      <td>Novak Djokovic</td>\n",
       "      <td>1</td>\n",
       "      <td>36.9</td>\n",
       "    </tr>\n",
       "    <tr>\n",
       "      <th>32518</th>\n",
       "      <td>20240520</td>\n",
       "      <td>5.0</td>\n",
       "      <td>Novak Djokovic</td>\n",
       "      <td>1</td>\n",
       "      <td>36.9</td>\n",
       "    </tr>\n",
       "    <tr>\n",
       "      <th>32517</th>\n",
       "      <td>20240520</td>\n",
       "      <td>6.0</td>\n",
       "      <td>Novak Djokovic</td>\n",
       "      <td>0</td>\n",
       "      <td>36.9</td>\n",
       "    </tr>\n",
       "  </tbody>\n",
       "</table>\n",
       "</div>"
      ],
      "text/plain": [
       "       tourney_date  round          player  player_outcome   age\n",
       "32509      20240304    3.0  Novak Djokovic               0  36.7\n",
       "32514      20240408    3.0  Novak Djokovic               1  36.8\n",
       "32513      20240408    4.0  Novak Djokovic               1  36.8\n",
       "32512      20240408    5.0  Novak Djokovic               1  36.8\n",
       "32511      20240408    6.0  Novak Djokovic               0  36.8\n",
       "32516      20240506    2.0  Novak Djokovic               1  36.9\n",
       "32515      20240506    3.0  Novak Djokovic               0  36.9\n",
       "32519      20240520    4.0  Novak Djokovic               1  36.9\n",
       "32518      20240520    5.0  Novak Djokovic               1  36.9\n",
       "32517      20240520    6.0  Novak Djokovic               0  36.9"
      ]
     },
     "execution_count": 11,
     "metadata": {},
     "output_type": "execute_result"
    }
   ],
   "source": [
    "pd.set_option('display.max_columns', None)\n",
    "variables = [\"tourney_date\", \"round\",\"player\", \"player_outcome\",\"age\"]\n",
    "test = all_matches_per_player.loc[all_matches_per_player['player']=='Novak Djokovic',variables]\n",
    "test.tail(10)\n"
   ]
  },
  {
   "cell_type": "markdown",
   "id": "b5284e5d",
   "metadata": {},
   "source": [
    "# Head-to-head metric"
   ]
  },
  {
   "cell_type": "code",
   "execution_count": null,
   "id": "0fdf58b7",
   "metadata": {},
   "outputs": [],
   "source": [
    " "
   ]
  },
  {
   "cell_type": "markdown",
   "id": "b47b4753",
   "metadata": {},
   "source": [
    "# Elo rating metric"
   ]
  },
  {
   "cell_type": "markdown",
   "id": "e2d74975",
   "metadata": {},
   "source": [
    "merge elo rating data from ELO script onto atp_matches (by match date)"
   ]
  },
  {
   "cell_type": "code",
   "execution_count": null,
   "id": "c11fdc62",
   "metadata": {},
   "outputs": [],
   "source": []
  },
  {
   "cell_type": "markdown",
   "id": "46a83326",
   "metadata": {},
   "source": [
    "# Moving-average metrics\n"
   ]
  },
  {
   "cell_type": "markdown",
   "id": "45d5c2c7",
   "metadata": {},
   "source": [
    "In this section we will construct moving average indicators based on the player database. Once these indicatos have been calcultalted, they can be merged onto atp_matches and thus used to predict win probabilities. "
   ]
  },
  {
   "cell_type": "markdown",
   "id": "2450d48a",
   "metadata": {},
   "source": [
    "Note that in the below code sections, we calculate moving averages based on the shifted sum, such that the previous 5/10 matches up to but $\\bf{not}$ including the present match is included in the sum. This is to ensure that we do not introduce a functional dependency between the outcome and the moverage-average indicators. The shift operator in Python can be used to address this."
   ]
  },
  {
   "cell_type": "markdown",
   "id": "cb8367b0",
   "metadata": {},
   "source": [
    "## Construction of historical Win-Loss Ratio "
   ]
  },
  {
   "cell_type": "markdown",
   "id": "a86aafe8",
   "metadata": {},
   "source": [
    "We now start by defining the historical Win-Loss ratio based on the previous 10 and 5 matches respectively. \n"
   ]
  },
  {
   "cell_type": "code",
   "execution_count": 12,
   "id": "edd3994b",
   "metadata": {},
   "outputs": [],
   "source": [
    "all_matches_per_player['shifted_outcome'] = all_matches_per_player.groupby('player')['player_outcome'].shift(1)\n",
    "Rolling_wins = all_matches_per_player.groupby('player')['shifted_outcome'].rolling(window=10,min_periods=1).sum().reset_index(level=0, drop=True)\n",
    "Rolling_wins_5 = all_matches_per_player.groupby('player')['shifted_outcome'].rolling(window=5,min_periods=1).sum().reset_index(level=0, drop=True)\n",
    "\n",
    "\n",
    "all_matches_per_player['shifted_matches'] = all_matches_per_player['shifted_outcome'].notna()\n",
    "Rolling_matches = all_matches_per_player.groupby('player')['shifted_matches'].rolling(window=10,min_periods=1).sum().reset_index(level=0, drop=True)\n",
    "Rolling_matches_5 = all_matches_per_player.groupby('player')['shifted_matches'].rolling(window=5,min_periods=1).sum().reset_index(level=0, drop=True)\n",
    "\n",
    "\n",
    "# Calculate rolling win-loss ratio and adding match number\n",
    "all_matches_per_player['Rolling_WLR'] = Rolling_wins / Rolling_matches\n",
    "all_matches_per_player['Rolling_WLR_5'] = Rolling_wins_5 / Rolling_matches_5\n",
    "all_matches_per_player['Match_number'] = all_matches_per_player.groupby('player').cumcount() + 1\n"
   ]
  },
  {
   "cell_type": "markdown",
   "id": "92a26a7d",
   "metadata": {},
   "source": [
    "We can check that the data steps have been carried out as expected by e.g. considering Holger Rune's most recent 15 matches."
   ]
  },
  {
   "cell_type": "code",
   "execution_count": 13,
   "id": "8344e284",
   "metadata": {},
   "outputs": [
    {
     "data": {
      "text/html": [
       "<div>\n",
       "<style scoped>\n",
       "    .dataframe tbody tr th:only-of-type {\n",
       "        vertical-align: middle;\n",
       "    }\n",
       "\n",
       "    .dataframe tbody tr th {\n",
       "        vertical-align: top;\n",
       "    }\n",
       "\n",
       "    .dataframe thead th {\n",
       "        text-align: right;\n",
       "    }\n",
       "</style>\n",
       "<table border=\"1\" class=\"dataframe\">\n",
       "  <thead>\n",
       "    <tr style=\"text-align: right;\">\n",
       "      <th></th>\n",
       "      <th>tourney_date</th>\n",
       "      <th>round</th>\n",
       "      <th>player</th>\n",
       "      <th>player_outcome</th>\n",
       "      <th>shifted_outcome</th>\n",
       "      <th>shifted_matches</th>\n",
       "      <th>Rolling_WLR</th>\n",
       "      <th>Rolling_WLR_5</th>\n",
       "      <th>Match_number</th>\n",
       "    </tr>\n",
       "  </thead>\n",
       "  <tbody>\n",
       "    <tr>\n",
       "      <th>254759</th>\n",
       "      <td>20240304</td>\n",
       "      <td>2.0</td>\n",
       "      <td>Holger Rune</td>\n",
       "      <td>1</td>\n",
       "      <td>0.0</td>\n",
       "      <td>True</td>\n",
       "      <td>0.6</td>\n",
       "      <td>0.6</td>\n",
       "      <td>284</td>\n",
       "    </tr>\n",
       "    <tr>\n",
       "      <th>254758</th>\n",
       "      <td>20240304</td>\n",
       "      <td>3.0</td>\n",
       "      <td>Holger Rune</td>\n",
       "      <td>1</td>\n",
       "      <td>1.0</td>\n",
       "      <td>True</td>\n",
       "      <td>0.7</td>\n",
       "      <td>0.8</td>\n",
       "      <td>285</td>\n",
       "    </tr>\n",
       "    <tr>\n",
       "      <th>254757</th>\n",
       "      <td>20240304</td>\n",
       "      <td>4.0</td>\n",
       "      <td>Holger Rune</td>\n",
       "      <td>1</td>\n",
       "      <td>1.0</td>\n",
       "      <td>True</td>\n",
       "      <td>0.7</td>\n",
       "      <td>0.8</td>\n",
       "      <td>286</td>\n",
       "    </tr>\n",
       "    <tr>\n",
       "      <th>254756</th>\n",
       "      <td>20240304</td>\n",
       "      <td>5.0</td>\n",
       "      <td>Holger Rune</td>\n",
       "      <td>0</td>\n",
       "      <td>1.0</td>\n",
       "      <td>True</td>\n",
       "      <td>0.7</td>\n",
       "      <td>0.8</td>\n",
       "      <td>287</td>\n",
       "    </tr>\n",
       "    <tr>\n",
       "      <th>254760</th>\n",
       "      <td>20240318</td>\n",
       "      <td>2.0</td>\n",
       "      <td>Holger Rune</td>\n",
       "      <td>0</td>\n",
       "      <td>0.0</td>\n",
       "      <td>True</td>\n",
       "      <td>0.7</td>\n",
       "      <td>0.6</td>\n",
       "      <td>288</td>\n",
       "    </tr>\n",
       "    <tr>\n",
       "      <th>254763</th>\n",
       "      <td>20240408</td>\n",
       "      <td>3.0</td>\n",
       "      <td>Holger Rune</td>\n",
       "      <td>1</td>\n",
       "      <td>0.0</td>\n",
       "      <td>True</td>\n",
       "      <td>0.6</td>\n",
       "      <td>0.6</td>\n",
       "      <td>289</td>\n",
       "    </tr>\n",
       "    <tr>\n",
       "      <th>254762</th>\n",
       "      <td>20240408</td>\n",
       "      <td>4.0</td>\n",
       "      <td>Holger Rune</td>\n",
       "      <td>1</td>\n",
       "      <td>1.0</td>\n",
       "      <td>True</td>\n",
       "      <td>0.7</td>\n",
       "      <td>0.6</td>\n",
       "      <td>290</td>\n",
       "    </tr>\n",
       "    <tr>\n",
       "      <th>254761</th>\n",
       "      <td>20240408</td>\n",
       "      <td>5.0</td>\n",
       "      <td>Holger Rune</td>\n",
       "      <td>0</td>\n",
       "      <td>1.0</td>\n",
       "      <td>True</td>\n",
       "      <td>0.7</td>\n",
       "      <td>0.6</td>\n",
       "      <td>291</td>\n",
       "    </tr>\n",
       "    <tr>\n",
       "      <th>254766</th>\n",
       "      <td>20240415</td>\n",
       "      <td>4.0</td>\n",
       "      <td>Holger Rune</td>\n",
       "      <td>1</td>\n",
       "      <td>0.0</td>\n",
       "      <td>True</td>\n",
       "      <td>0.6</td>\n",
       "      <td>0.4</td>\n",
       "      <td>292</td>\n",
       "    </tr>\n",
       "    <tr>\n",
       "      <th>254765</th>\n",
       "      <td>20240415</td>\n",
       "      <td>5.0</td>\n",
       "      <td>Holger Rune</td>\n",
       "      <td>1</td>\n",
       "      <td>1.0</td>\n",
       "      <td>True</td>\n",
       "      <td>0.6</td>\n",
       "      <td>0.6</td>\n",
       "      <td>293</td>\n",
       "    </tr>\n",
       "    <tr>\n",
       "      <th>254764</th>\n",
       "      <td>20240415</td>\n",
       "      <td>6.0</td>\n",
       "      <td>Holger Rune</td>\n",
       "      <td>0</td>\n",
       "      <td>1.0</td>\n",
       "      <td>True</td>\n",
       "      <td>0.7</td>\n",
       "      <td>0.8</td>\n",
       "      <td>294</td>\n",
       "    </tr>\n",
       "    <tr>\n",
       "      <th>254768</th>\n",
       "      <td>20240422</td>\n",
       "      <td>2.0</td>\n",
       "      <td>Holger Rune</td>\n",
       "      <td>1</td>\n",
       "      <td>0.0</td>\n",
       "      <td>True</td>\n",
       "      <td>0.6</td>\n",
       "      <td>0.6</td>\n",
       "      <td>295</td>\n",
       "    </tr>\n",
       "    <tr>\n",
       "      <th>254767</th>\n",
       "      <td>20240422</td>\n",
       "      <td>3.0</td>\n",
       "      <td>Holger Rune</td>\n",
       "      <td>0</td>\n",
       "      <td>1.0</td>\n",
       "      <td>True</td>\n",
       "      <td>0.6</td>\n",
       "      <td>0.6</td>\n",
       "      <td>296</td>\n",
       "    </tr>\n",
       "    <tr>\n",
       "      <th>254770</th>\n",
       "      <td>20240506</td>\n",
       "      <td>2.0</td>\n",
       "      <td>Holger Rune</td>\n",
       "      <td>1</td>\n",
       "      <td>0.0</td>\n",
       "      <td>True</td>\n",
       "      <td>0.5</td>\n",
       "      <td>0.6</td>\n",
       "      <td>297</td>\n",
       "    </tr>\n",
       "    <tr>\n",
       "      <th>254769</th>\n",
       "      <td>20240506</td>\n",
       "      <td>3.0</td>\n",
       "      <td>Holger Rune</td>\n",
       "      <td>0</td>\n",
       "      <td>1.0</td>\n",
       "      <td>True</td>\n",
       "      <td>0.6</td>\n",
       "      <td>0.6</td>\n",
       "      <td>298</td>\n",
       "    </tr>\n",
       "  </tbody>\n",
       "</table>\n",
       "</div>"
      ],
      "text/plain": [
       "        tourney_date  round       player  player_outcome  shifted_outcome  \\\n",
       "254759      20240304    2.0  Holger Rune               1              0.0   \n",
       "254758      20240304    3.0  Holger Rune               1              1.0   \n",
       "254757      20240304    4.0  Holger Rune               1              1.0   \n",
       "254756      20240304    5.0  Holger Rune               0              1.0   \n",
       "254760      20240318    2.0  Holger Rune               0              0.0   \n",
       "254763      20240408    3.0  Holger Rune               1              0.0   \n",
       "254762      20240408    4.0  Holger Rune               1              1.0   \n",
       "254761      20240408    5.0  Holger Rune               0              1.0   \n",
       "254766      20240415    4.0  Holger Rune               1              0.0   \n",
       "254765      20240415    5.0  Holger Rune               1              1.0   \n",
       "254764      20240415    6.0  Holger Rune               0              1.0   \n",
       "254768      20240422    2.0  Holger Rune               1              0.0   \n",
       "254767      20240422    3.0  Holger Rune               0              1.0   \n",
       "254770      20240506    2.0  Holger Rune               1              0.0   \n",
       "254769      20240506    3.0  Holger Rune               0              1.0   \n",
       "\n",
       "        shifted_matches  Rolling_WLR  Rolling_WLR_5  Match_number  \n",
       "254759             True          0.6            0.6           284  \n",
       "254758             True          0.7            0.8           285  \n",
       "254757             True          0.7            0.8           286  \n",
       "254756             True          0.7            0.8           287  \n",
       "254760             True          0.7            0.6           288  \n",
       "254763             True          0.6            0.6           289  \n",
       "254762             True          0.7            0.6           290  \n",
       "254761             True          0.7            0.6           291  \n",
       "254766             True          0.6            0.4           292  \n",
       "254765             True          0.6            0.6           293  \n",
       "254764             True          0.7            0.8           294  \n",
       "254768             True          0.6            0.6           295  \n",
       "254767             True          0.6            0.6           296  \n",
       "254770             True          0.5            0.6           297  \n",
       "254769             True          0.6            0.6           298  "
      ]
     },
     "execution_count": 13,
     "metadata": {},
     "output_type": "execute_result"
    }
   ],
   "source": [
    "all_matches_per_player.loc[all_matches_per_player['player'] == 'Holger Rune', [ 'tourney_date', 'round', 'player', 'player_outcome', 'shifted_outcome', 'shifted_matches','Rolling_WLR', 'Rolling_WLR_5', 'Match_number']].tail(15)"
   ]
  },
  {
   "cell_type": "markdown",
   "id": "b79afadb",
   "metadata": {},
   "source": [
    "## Construction of historical First Serve Percentage"
   ]
  },
  {
   "cell_type": "markdown",
   "id": "674c25d6",
   "metadata": {},
   "source": [
    "A strong serve is key to winning matches in tennis. The service player has an advantage as he/she determines the first shot, and a good serve can dictate the rest of the point. A high first serve percentage is often correlated (even causal) with the win probability, and therefore it seems reasonable to account for this effect, via a measure such as the first serve percentage. \n",
    "\n",
    "\n",
    "First we define the shifted sum of service points and sum of 1st serves in for each player in the player database."
   ]
  },
  {
   "cell_type": "code",
   "execution_count": 14,
   "id": "322fc24d",
   "metadata": {},
   "outputs": [],
   "source": [
    "\n",
    "all_matches_per_player['svpt'] = all_matches_per_player.apply( lambda row: row['w_svpt'] if row['player'] == row['winner_name']\n",
    "                                                              else  row['l_svpt'], axis=1)\n",
    "\n",
    "all_matches_per_player['svIn'] = all_matches_per_player.apply( lambda row: row['w_1stIn'] if row['player'] == row['winner_name']\n",
    "                                                              else  row['l_1stIn'],axis=1)\n",
    "\n",
    "all_matches_per_player['shifted_svpt'] = all_matches_per_player.groupby('player')['svpt'].shift(1)\n",
    "all_matches_per_player['shifted_svIn'] = all_matches_per_player.groupby('player')['svIn'].shift(1)\n"
   ]
  },
  {
   "cell_type": "markdown",
   "id": "152e120a",
   "metadata": {},
   "source": [
    "We then calculate the historical First Serve Percentage as the proportion of first service points won. Both 5 and 10 lookback periods are considered. "
   ]
  },
  {
   "cell_type": "code",
   "execution_count": 15,
   "id": "db36b16a",
   "metadata": {},
   "outputs": [],
   "source": [
    "\n",
    "\n",
    "all_matches_per_player['Rolling_SVP'] = (all_matches_per_player.groupby('player')['shifted_svIn'].rolling(window=10,\n",
    "                                                                                          min_periods=1).sum().reset_index(\n",
    "    level=0, drop=True) /\n",
    "                             all_matches_per_player.groupby('player')['shifted_svpt'].rolling(window=10,\n",
    "                                                                                          min_periods=1).sum().reset_index(\n",
    "                                 level=0, drop=True))"
   ]
  },
  {
   "cell_type": "code",
   "execution_count": 16,
   "id": "953ae61d",
   "metadata": {},
   "outputs": [],
   "source": [
    "\n",
    "all_matches_per_player['Rolling_SVP_5'] = (all_matches_per_player.groupby('player')['shifted_svIn'].rolling(window=5,\n",
    "                                                                                          min_periods=1).sum().reset_index(\n",
    "    level=0, drop=True) /\n",
    "                             all_matches_per_player.groupby('player')['shifted_svpt'].rolling(window=5,\n",
    "                                                                                          min_periods=1).sum().reset_index(\n",
    "                                 level=0, drop=True))"
   ]
  },
  {
   "cell_type": "markdown",
   "id": "4e88655b",
   "metadata": {},
   "source": [
    "We can check that the data steps have been carried out as expected by e.g. considering Holger Rune's most recent 15 matches."
   ]
  },
  {
   "cell_type": "code",
   "execution_count": 17,
   "id": "b7e7159c",
   "metadata": {},
   "outputs": [
    {
     "data": {
      "text/html": [
       "<div>\n",
       "<style scoped>\n",
       "    .dataframe tbody tr th:only-of-type {\n",
       "        vertical-align: middle;\n",
       "    }\n",
       "\n",
       "    .dataframe tbody tr th {\n",
       "        vertical-align: top;\n",
       "    }\n",
       "\n",
       "    .dataframe thead th {\n",
       "        text-align: right;\n",
       "    }\n",
       "</style>\n",
       "<table border=\"1\" class=\"dataframe\">\n",
       "  <thead>\n",
       "    <tr style=\"text-align: right;\">\n",
       "      <th></th>\n",
       "      <th>tourney_date</th>\n",
       "      <th>round</th>\n",
       "      <th>player</th>\n",
       "      <th>Rolling_SVP</th>\n",
       "      <th>Rolling_SVP_5</th>\n",
       "      <th>svpt</th>\n",
       "      <th>shifted_svpt</th>\n",
       "      <th>svIn</th>\n",
       "      <th>shifted_svIn</th>\n",
       "      <th>Match_number</th>\n",
       "    </tr>\n",
       "  </thead>\n",
       "  <tbody>\n",
       "    <tr>\n",
       "      <th>254759</th>\n",
       "      <td>20240304</td>\n",
       "      <td>2.0</td>\n",
       "      <td>Holger Rune</td>\n",
       "      <td>0.582667</td>\n",
       "      <td>0.571429</td>\n",
       "      <td>NaN</td>\n",
       "      <td>82.0</td>\n",
       "      <td>NaN</td>\n",
       "      <td>40.0</td>\n",
       "      <td>284</td>\n",
       "    </tr>\n",
       "    <tr>\n",
       "      <th>254758</th>\n",
       "      <td>20240304</td>\n",
       "      <td>3.0</td>\n",
       "      <td>Holger Rune</td>\n",
       "      <td>0.588907</td>\n",
       "      <td>0.565517</td>\n",
       "      <td>59.0</td>\n",
       "      <td>NaN</td>\n",
       "      <td>38.0</td>\n",
       "      <td>NaN</td>\n",
       "      <td>285</td>\n",
       "    </tr>\n",
       "    <tr>\n",
       "      <th>254757</th>\n",
       "      <td>20240304</td>\n",
       "      <td>4.0</td>\n",
       "      <td>Holger Rune</td>\n",
       "      <td>0.588907</td>\n",
       "      <td>0.586441</td>\n",
       "      <td>94.0</td>\n",
       "      <td>59.0</td>\n",
       "      <td>53.0</td>\n",
       "      <td>38.0</td>\n",
       "      <td>286</td>\n",
       "    </tr>\n",
       "    <tr>\n",
       "      <th>254756</th>\n",
       "      <td>20240304</td>\n",
       "      <td>5.0</td>\n",
       "      <td>Holger Rune</td>\n",
       "      <td>0.582677</td>\n",
       "      <td>0.580952</td>\n",
       "      <td>84.0</td>\n",
       "      <td>94.0</td>\n",
       "      <td>47.0</td>\n",
       "      <td>53.0</td>\n",
       "      <td>287</td>\n",
       "    </tr>\n",
       "    <tr>\n",
       "      <th>254760</th>\n",
       "      <td>20240318</td>\n",
       "      <td>2.0</td>\n",
       "      <td>Holger Rune</td>\n",
       "      <td>0.582222</td>\n",
       "      <td>0.557994</td>\n",
       "      <td>41.0</td>\n",
       "      <td>84.0</td>\n",
       "      <td>25.0</td>\n",
       "      <td>47.0</td>\n",
       "      <td>288</td>\n",
       "    </tr>\n",
       "    <tr>\n",
       "      <th>254763</th>\n",
       "      <td>20240408</td>\n",
       "      <td>3.0</td>\n",
       "      <td>Holger Rune</td>\n",
       "      <td>0.577953</td>\n",
       "      <td>0.586331</td>\n",
       "      <td>70.0</td>\n",
       "      <td>41.0</td>\n",
       "      <td>38.0</td>\n",
       "      <td>25.0</td>\n",
       "      <td>289</td>\n",
       "    </tr>\n",
       "    <tr>\n",
       "      <th>254762</th>\n",
       "      <td>20240408</td>\n",
       "      <td>4.0</td>\n",
       "      <td>Holger Rune</td>\n",
       "      <td>0.572100</td>\n",
       "      <td>0.577586</td>\n",
       "      <td>135.0</td>\n",
       "      <td>70.0</td>\n",
       "      <td>94.0</td>\n",
       "      <td>38.0</td>\n",
       "      <td>290</td>\n",
       "    </tr>\n",
       "    <tr>\n",
       "      <th>254761</th>\n",
       "      <td>20240408</td>\n",
       "      <td>5.0</td>\n",
       "      <td>Holger Rune</td>\n",
       "      <td>0.598053</td>\n",
       "      <td>0.606132</td>\n",
       "      <td>95.0</td>\n",
       "      <td>135.0</td>\n",
       "      <td>50.0</td>\n",
       "      <td>94.0</td>\n",
       "      <td>291</td>\n",
       "    </tr>\n",
       "    <tr>\n",
       "      <th>254766</th>\n",
       "      <td>20240415</td>\n",
       "      <td>4.0</td>\n",
       "      <td>Holger Rune</td>\n",
       "      <td>0.590541</td>\n",
       "      <td>0.597647</td>\n",
       "      <td>54.0</td>\n",
       "      <td>95.0</td>\n",
       "      <td>28.0</td>\n",
       "      <td>50.0</td>\n",
       "      <td>292</td>\n",
       "    </tr>\n",
       "    <tr>\n",
       "      <th>254765</th>\n",
       "      <td>20240415</td>\n",
       "      <td>5.0</td>\n",
       "      <td>Holger Rune</td>\n",
       "      <td>0.578431</td>\n",
       "      <td>0.594937</td>\n",
       "      <td>76.0</td>\n",
       "      <td>54.0</td>\n",
       "      <td>52.0</td>\n",
       "      <td>28.0</td>\n",
       "      <td>293</td>\n",
       "    </tr>\n",
       "    <tr>\n",
       "      <th>254764</th>\n",
       "      <td>20240415</td>\n",
       "      <td>6.0</td>\n",
       "      <td>Holger Rune</td>\n",
       "      <td>0.600282</td>\n",
       "      <td>0.609302</td>\n",
       "      <td>41.0</td>\n",
       "      <td>76.0</td>\n",
       "      <td>26.0</td>\n",
       "      <td>52.0</td>\n",
       "      <td>294</td>\n",
       "    </tr>\n",
       "    <tr>\n",
       "      <th>254768</th>\n",
       "      <td>20240422</td>\n",
       "      <td>2.0</td>\n",
       "      <td>Holger Rune</td>\n",
       "      <td>0.602136</td>\n",
       "      <td>0.623441</td>\n",
       "      <td>131.0</td>\n",
       "      <td>41.0</td>\n",
       "      <td>86.0</td>\n",
       "      <td>26.0</td>\n",
       "      <td>295</td>\n",
       "    </tr>\n",
       "    <tr>\n",
       "      <th>254767</th>\n",
       "      <td>20240422</td>\n",
       "      <td>3.0</td>\n",
       "      <td>Holger Rune</td>\n",
       "      <td>0.607795</td>\n",
       "      <td>0.609572</td>\n",
       "      <td>105.0</td>\n",
       "      <td>131.0</td>\n",
       "      <td>67.0</td>\n",
       "      <td>86.0</td>\n",
       "      <td>296</td>\n",
       "    </tr>\n",
       "    <tr>\n",
       "      <th>254770</th>\n",
       "      <td>20240506</td>\n",
       "      <td>2.0</td>\n",
       "      <td>Holger Rune</td>\n",
       "      <td>0.616587</td>\n",
       "      <td>0.636364</td>\n",
       "      <td>67.0</td>\n",
       "      <td>105.0</td>\n",
       "      <td>39.0</td>\n",
       "      <td>67.0</td>\n",
       "      <td>297</td>\n",
       "    </tr>\n",
       "    <tr>\n",
       "      <th>254769</th>\n",
       "      <td>20240506</td>\n",
       "      <td>3.0</td>\n",
       "      <td>Holger Rune</td>\n",
       "      <td>0.619632</td>\n",
       "      <td>0.642857</td>\n",
       "      <td>75.0</td>\n",
       "      <td>67.0</td>\n",
       "      <td>43.0</td>\n",
       "      <td>39.0</td>\n",
       "      <td>298</td>\n",
       "    </tr>\n",
       "  </tbody>\n",
       "</table>\n",
       "</div>"
      ],
      "text/plain": [
       "        tourney_date  round       player  Rolling_SVP  Rolling_SVP_5   svpt  \\\n",
       "254759      20240304    2.0  Holger Rune     0.582667       0.571429    NaN   \n",
       "254758      20240304    3.0  Holger Rune     0.588907       0.565517   59.0   \n",
       "254757      20240304    4.0  Holger Rune     0.588907       0.586441   94.0   \n",
       "254756      20240304    5.0  Holger Rune     0.582677       0.580952   84.0   \n",
       "254760      20240318    2.0  Holger Rune     0.582222       0.557994   41.0   \n",
       "254763      20240408    3.0  Holger Rune     0.577953       0.586331   70.0   \n",
       "254762      20240408    4.0  Holger Rune     0.572100       0.577586  135.0   \n",
       "254761      20240408    5.0  Holger Rune     0.598053       0.606132   95.0   \n",
       "254766      20240415    4.0  Holger Rune     0.590541       0.597647   54.0   \n",
       "254765      20240415    5.0  Holger Rune     0.578431       0.594937   76.0   \n",
       "254764      20240415    6.0  Holger Rune     0.600282       0.609302   41.0   \n",
       "254768      20240422    2.0  Holger Rune     0.602136       0.623441  131.0   \n",
       "254767      20240422    3.0  Holger Rune     0.607795       0.609572  105.0   \n",
       "254770      20240506    2.0  Holger Rune     0.616587       0.636364   67.0   \n",
       "254769      20240506    3.0  Holger Rune     0.619632       0.642857   75.0   \n",
       "\n",
       "        shifted_svpt  svIn  shifted_svIn  Match_number  \n",
       "254759          82.0   NaN          40.0           284  \n",
       "254758           NaN  38.0           NaN           285  \n",
       "254757          59.0  53.0          38.0           286  \n",
       "254756          94.0  47.0          53.0           287  \n",
       "254760          84.0  25.0          47.0           288  \n",
       "254763          41.0  38.0          25.0           289  \n",
       "254762          70.0  94.0          38.0           290  \n",
       "254761         135.0  50.0          94.0           291  \n",
       "254766          95.0  28.0          50.0           292  \n",
       "254765          54.0  52.0          28.0           293  \n",
       "254764          76.0  26.0          52.0           294  \n",
       "254768          41.0  86.0          26.0           295  \n",
       "254767         131.0  67.0          86.0           296  \n",
       "254770         105.0  39.0          67.0           297  \n",
       "254769          67.0  43.0          39.0           298  "
      ]
     },
     "execution_count": 17,
     "metadata": {},
     "output_type": "execute_result"
    }
   ],
   "source": [
    "all_matches_per_player.loc[all_matches_per_player['player'] == 'Holger Rune', [ 'tourney_date', 'round', 'player', 'Rolling_SVP','Rolling_SVP_5','svpt','shifted_svpt','svIn','shifted_svIn','Match_number']].tail(15)"
   ]
  },
  {
   "cell_type": "markdown",
   "id": "04fa5739",
   "metadata": {},
   "source": [
    "## Construction of historical Second Serve Win Percentage"
   ]
  },
  {
   "cell_type": "markdown",
   "id": "0cbeb8c9",
   "metadata": {},
   "source": [
    "A weak first service can be compensated by a strong second serve. Roger Federer did not have the fastest serve, but his placement of the serve and ability to disguise his placement was key to his success. "
   ]
  },
  {
   "cell_type": "code",
   "execution_count": 18,
   "id": "a65e48bc",
   "metadata": {},
   "outputs": [],
   "source": [
    "all_matches_per_player['ssvWon'] = all_matches_per_player.apply( \n",
    "    lambda row: row['w_2ndWon'] if row['player'] == row['winner_name'] else  row['l_2ndWon'],axis=1)\n",
    "\n",
    "all_matches_per_player['ssvpt'] = all_matches_per_player.apply( \n",
    "    lambda row: (row['w_svpt']-row['w_1stIn']-row['w_df']) if row['player'] == row['winner_name']else  row['l_svpt'], axis=1)\n",
    "    \n",
    "all_matches_per_player['shifted_ssvpt'] = all_matches_per_player.groupby('player')['ssvpt'].shift(1)\n",
    "all_matches_per_player['shifted_ssvWon'] = all_matches_per_player.groupby('player')['ssvWon'].shift(1)\n"
   ]
  },
  {
   "cell_type": "code",
   "execution_count": 19,
   "id": "c80bc704",
   "metadata": {},
   "outputs": [],
   "source": [
    "all_matches_per_player['Rolling_SSWP'] = (all_matches_per_player.groupby('player')['shifted_ssvWon'].rolling(window=10,\n",
    "                                                                                          min_periods=1).sum().reset_index(\n",
    "    level=0, drop=True) /\n",
    "                             all_matches_per_player.groupby('player')['shifted_ssvpt'].rolling(window=10,\n",
    "                                                                                          min_periods=1).sum().reset_index(\n",
    "                                 level=0, drop=True))\n",
    "\n",
    "all_matches_per_player['Rolling_SSWP_5'] = (all_matches_per_player.groupby('player')['shifted_ssvWon'].rolling(window=5,\n",
    "                                                                                          min_periods=1).sum().reset_index(\n",
    "    level=0, drop=True) /\n",
    "                             all_matches_per_player.groupby('player')['shifted_ssvpt'].rolling(window=5,\n",
    "                                                                                          min_periods=1).sum().reset_index(\n",
    "                                 level=0, drop=True))"
   ]
  },
  {
   "cell_type": "markdown",
   "id": "0d76d008",
   "metadata": {},
   "source": [
    "## Construction of historical Break Points Saved Percentage"
   ]
  },
  {
   "cell_type": "code",
   "execution_count": 20,
   "id": "4b1d7f08",
   "metadata": {},
   "outputs": [],
   "source": [
    "\n",
    "all_matches_per_player['bpFaced'] = all_matches_per_player.apply( lambda row: row['w_bpFaced'] if row['player'] == row['winner_name']\n",
    "                                                              else  row['l_bpFaced'], axis=1)\n",
    "\n",
    "all_matches_per_player['bpSaved'] = all_matches_per_player.apply( lambda row: row['w_bpSaved'] if row['player'] == row['winner_name']\n",
    "                                                              else  row['l_bpSaved'],axis=1)\n",
    "\n",
    "all_matches_per_player['shifted_bpFaced'] = all_matches_per_player.groupby('player')['bpFaced'].shift(1)\n",
    "all_matches_per_player['shifted_bpSaved'] = all_matches_per_player.groupby('player')['bpSaved'].shift(1)"
   ]
  },
  {
   "cell_type": "code",
   "execution_count": 21,
   "id": "1fed6489",
   "metadata": {},
   "outputs": [],
   "source": [
    "all_matches_per_player['Rolling_BPS'] = (all_matches_per_player.groupby('player')['shifted_bpSaved'].rolling(window=10,\n",
    "                                                                                          min_periods=1).sum().reset_index(\n",
    "    level=0, drop=True) /\n",
    "                             all_matches_per_player.groupby('player')['shifted_bpFaced'].rolling(window=10,\n",
    "                                                                                          min_periods=1).sum().reset_index(\n",
    "                                 level=0, drop=True))\n",
    "\n",
    "all_matches_per_player['Rolling_BPS_5'] = (all_matches_per_player.groupby('player')['shifted_bpSaved'].rolling(window=5,\n",
    "                                                                                          min_periods=1).sum().reset_index(\n",
    "    level=0, drop=True) /\n",
    "                             all_matches_per_player.groupby('player')['shifted_bpFaced'].rolling(window=5,\n",
    "                                                                                          min_periods=1).sum().reset_index(\n",
    "                                 level=0, drop=True))"
   ]
  },
  {
   "cell_type": "markdown",
   "id": "7ef9cd61",
   "metadata": {},
   "source": [
    "## Visualization of player specific evolution metrics"
   ]
  },
  {
   "cell_type": "markdown",
   "id": "c6269b24",
   "metadata": {},
   "source": [
    "We can for example visualize the performance over time of each individual player as follows:\n",
    "\n"
   ]
  },
  {
   "cell_type": "code",
   "execution_count": 22,
   "id": "e4d0ab79",
   "metadata": {},
   "outputs": [],
   "source": [
    "import pandas as pd\n",
    "import seaborn as sns\n",
    "import matplotlib.pyplot as plt\n",
    "\n",
    "def evolution(x,y,data, player, t=False):\n",
    "    # Filter data for the specified player\n",
    "    df = data[data['Main_player_name'] == player]\n",
    "\n",
    "    # Plot the scatter points\n",
    "    sns.scatterplot(x=x, y=y, data=df)\n",
    "\n",
    "    # Add a loess smoother (regression line)\n",
    "    sns.regplot(x=x, y=y, data=df, scatter=False, label='Loess Smoother', lowess=True, line_kws={'color': 'red'})\n",
    "\n",
    "\n",
    "    plt.xlabel(f'{x}')\n",
    "    plt.ylabel(f'{y}')\n",
    "    plt.title(f'Evolution of historical {y.split(\"_\")[-1]} for {player}')\n",
    "\n",
    "    # Show the plot\n",
    "    plt.show()\n",
    "\n",
    "    # Optionally, print the first 30 rows if t is True\n",
    "    if t:\n",
    "        return pd.DataFrame(df).head(50)\n"
   ]
  },
  {
   "cell_type": "code",
   "execution_count": 23,
   "id": "079e01b4",
   "metadata": {},
   "outputs": [
    {
     "data": {
      "image/png": "[encoded data removed]",
      "text/plain": [
       "<Figure size 640x480 with 1 Axes>"
      ]
     },
     "metadata": {},
     "output_type": "display_data"
    },
    {
     "data": {
      "image/png": "[encoded data removed]",
      "text/plain": [
       "<Figure size 640x480 with 1 Axes>"
      ]
     },
     "metadata": {},
     "output_type": "display_data"
    },
    {
     "data": {
      "image/png": "[encoded data removed]",
      "text/plain": [
       "<Figure size 640x480 with 1 Axes>"
      ]
     },
     "metadata": {},
     "output_type": "display_data"
    },
    {
     "data": {
      "image/png": "[encoded data removed]",
      "text/plain": [
       "<Figure size 640x480 with 1 Axes>"
      ]
     },
     "metadata": {},
     "output_type": "display_data"
    },
    {
     "data": {
      "image/png": "[encoded data removed]",
      "text/plain": [
       "<Figure size 640x480 with 1 Axes>"
      ]
     },
     "metadata": {},
     "output_type": "display_data"
    }
   ],
   "source": [
    "all_matches_per_player.rename(columns={'player': 'Main_player_name'}, inplace=True)\n",
    "evolution(data = all_matches_per_player, player = 'Carlos Alcaraz',x='Match_number',y='Rolling_WLR')\n",
    "evolution(data = all_matches_per_player, player = 'Carlos Alcaraz',x='Match_number',y='Rolling_SVP')\n",
    "evolution(data = all_matches_per_player, player = 'Holger Rune',x='Match_number',y='Rolling_WLR')\n",
    "evolution(data = all_matches_per_player, player = 'Holger Rune',x='Match_number',y='Rolling_SVP')\n",
    "evolution(data = all_matches_per_player, player = 'Roger Federer',x='Match_number',y='Rolling_SVP')\n"
   ]
  },
  {
   "cell_type": "markdown",
   "id": "0395d07e",
   "metadata": {},
   "source": [
    "We see that Alcaraz has improved his win-loss ratio over time and has had a consistently high WLR during the last 70-80 matches played. \n",
    "\n"
   ]
  },
  {
   "cell_type": "markdown",
   "id": "e38c8b59",
   "metadata": {},
   "source": [
    "## Selecting relevant variables from player database for further use"
   ]
  },
  {
   "cell_type": "code",
   "execution_count": 24,
   "id": "69c39896",
   "metadata": {},
   "outputs": [],
   "source": [
    "numerical_columns = ['age', 'rank', 'height', 'Rolling_WLR', 'Rolling_WLR_5', 'Rolling_SVP', 'Rolling_SVP_5', 'Rolling_SSWP', 'Rolling_SSWP_5', 'Rolling_BPS', 'Rolling_BPS_5']\n",
    "categorical_columns = ['Main_player_name','tourney_date','round','draw_size', 'surface', 'tourney_level']\n",
    "player_data = all_matches_per_player[categorical_columns + numerical_columns]"
   ]
  },
  {
   "cell_type": "markdown",
   "id": "62e6ec3d",
   "metadata": {},
   "source": [
    "# Merging moving average indicators onto atp_matches data"
   ]
  },
  {
   "cell_type": "markdown",
   "id": "33f9e16c",
   "metadata": {},
   "source": [
    "Now we will merge the time-evolution indicators onto the match dataset, atp_matches. We merge by a combination of three variables: Round, main/other player name and start date of the tournament. This combination should have the same effect as a unique match id, which we unfortunately don't have, and thus a sufficient key to merge player evolution statistics correctly onto a match in the atp_matches table. "
   ]
  },
  {
   "cell_type": "markdown",
   "id": "5d8f5e0c",
   "metadata": {},
   "source": [
    "First we extract the sufficient variables from atp_matches"
   ]
  },
  {
   "cell_type": "code",
   "execution_count": 25,
   "id": "5f593408",
   "metadata": {},
   "outputs": [],
   "source": [
    "pd.set_option('display.max_columns', None)\n",
    "player_data_copy = player_data.copy()\n",
    "\n",
    "atp_matches_copy = atp_matches.copy()\n",
    "vars = ['Main_player_name','Other_player_name','Outcome','tourney_name', 'tourney_date','round','surface','draw_size','tourney_level']\n",
    "atp_matches_copy = atp_matches_copy[vars]"
   ]
  },
  {
   "cell_type": "markdown",
   "id": "99a11c4d",
   "metadata": {},
   "source": [
    "Then we merge the player database onto the atp_matches corresponding to the main player name. Then we do the same but for the other player. This results in _x (main player) and _y (other player) variables."
   ]
  },
  {
   "cell_type": "code",
   "execution_count": 26,
   "id": "1fab7ccc",
   "metadata": {},
   "outputs": [],
   "source": [
    "test = pd.merge(atp_matches_copy,player_data_copy,how=\"left\",on = [\"Main_player_name\",\"tourney_date\",\"round\"])\n",
    "test = test.sort_values(by=['Main_player_name', 'tourney_date','round']\n",
    "                                                           , ascending=[True, True,True])"
   ]
  },
  {
   "cell_type": "code",
   "execution_count": 27,
   "id": "920b7835",
   "metadata": {},
   "outputs": [],
   "source": [
    "player_data_copy.rename(columns={'Main_player_name': 'Other_player_name'}, inplace=True)\n",
    "test2 = pd.merge(test,player_data_copy,how=\"left\",on = [\"round\",\"Other_player_name\",\"tourney_date\"])\n",
    "player_data_copy.rename(columns={'Other_player_name' : 'Main_player_name'}, inplace=True)"
   ]
  },
  {
   "cell_type": "markdown",
   "id": "f9d52201",
   "metadata": {},
   "source": [
    "Then we calculate the difference between the two players for each of the moving average indicators:"
   ]
  },
  {
   "cell_type": "code",
   "execution_count": 28,
   "id": "825d0889",
   "metadata": {},
   "outputs": [],
   "source": [
    "\n",
    "test2[\"age_diff\"]=test2[\"age_x\"]-test2[\"age_y\"]\n",
    "test2[\"rank_diff\"]=test2[\"rank_x\"]-test2[\"rank_y\"]\n",
    "test2[\"height_diff\"]=test2[\"height_x\"]-test2[\"height_y\"]\n",
    "\n",
    "test2[\"Rolling_WLR_diff\"]=test2[\"Rolling_WLR_x\"]-test2[\"Rolling_WLR_y\"]\n",
    "test2[\"Rolling_WLR_5_diff\"]=test2[\"Rolling_WLR_5_x\"]-test2[\"Rolling_WLR_5_y\"]\n",
    "\n",
    "test2[\"Rolling_SVP_diff\"]=test2[\"Rolling_SVP_x\"]-test2[\"Rolling_SVP_y\"]\n",
    "test2[\"Rolling_SVP_5_diff\"]=test2[\"Rolling_SVP_5_x\"]-test2[\"Rolling_SVP_5_y\"]\n",
    "\n",
    "test2[\"Rolling_SSWP_diff\"]=test2[\"Rolling_SSWP_x\"]-test2[\"Rolling_SSWP_y\"]\n",
    "test2[\"Rolling_SSWP_5_diff\"]=test2[\"Rolling_SSWP_5_x\"]-test2[\"Rolling_SSWP_5_y\"]\n",
    "\n",
    "test2[\"Rolling_BPS_diff\"]=test2[\"Rolling_BPS_x\"]-test2[\"Rolling_BPS_y\"]\n",
    "test2[\"Rolling_BPS_5_diff\"]=test2[\"Rolling_BPS_5_x\"]-test2[\"Rolling_BPS_5_y\"]\n",
    "\n",
    "#test2.sort_values(by=['Main_player_name', 'tourney_date','round']\n",
    "                                                           #, ascending=[True, True,True])\n",
    "\n",
    "test2 = test2.filter(regex='^(?!.*(_x|_y)$)')                                                           "
   ]
  },
  {
   "cell_type": "markdown",
   "id": "7a6efd25",
   "metadata": {},
   "source": [
    "# Splitting data into train and test"
   ]
  },
  {
   "cell_type": "code",
   "execution_count": 29,
   "id": "6cb43809",
   "metadata": {},
   "outputs": [],
   "source": [
    "from sklearn.model_selection import train_test_split\n",
    "X = test2.copy()\n",
    "X.drop('Outcome',axis=1, inplace=True)\n",
    "y = test2['Outcome']\n",
    "X_train, X_test, y_train, y_test = train_test_split(X, y, test_size=0.2, random_state=42)\n"
   ]
  },
  {
   "cell_type": "markdown",
   "id": "ae0f9fb9",
   "metadata": {},
   "source": [
    "# Saving data for further use"
   ]
  },
  {
   "cell_type": "code",
   "execution_count": 30,
   "id": "a7fc9339",
   "metadata": {},
   "outputs": [],
   "source": [
    "\n",
    "os.chdir('..\\\\Python\\\\Temp data')\n",
    "#os.getcwd()"
   ]
  },
  {
   "cell_type": "code",
   "execution_count": 31,
   "id": "90d8c25f",
   "metadata": {},
   "outputs": [],
   "source": [
    "X.to_csv('X.csv', index=False)\n",
    "y.to_csv('y.csv', index=False)\n",
    "X_train.to_csv('X_train.csv', index=False)  \n",
    "X_test.to_csv('X_test.csv', index=False)  \n",
    "y_train.to_csv('y_train.csv', index=False)  \n",
    "y_test.to_csv('y_test.csv', index=False) \n",
    "player_data_copy.to_csv('player_data.csv', index=False) "
   ]
  },
  {
   "cell_type": "code",
   "execution_count": null,
   "id": "980d0559",
   "metadata": {},
   "outputs": [],
   "source": []
  }
 ],
 "metadata": {
  "kernelspec": {
   "display_name": "Python 3 (ipykernel)",
   "language": "python",
   "name": "python3"
  },
  "language_info": {
   "codemirror_mode": {
    "name": "ipython",
    "version": 3
   },
   "file_extension": ".py",
   "mimetype": "text/x-python",
   "name": "python",
   "nbconvert_exporter": "python",
   "pygments_lexer": "ipython3",
   "version": "3.9.18"
  }
 },
 "nbformat": 4,
 "nbformat_minor": 5
}
